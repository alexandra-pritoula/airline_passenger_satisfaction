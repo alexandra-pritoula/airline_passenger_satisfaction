{
 "cells": [
  {
   "cell_type": "markdown",
   "metadata": {},
   "source": [
    "# Feature Engineering"
   ]
  },
  {
   "cell_type": "code",
   "execution_count": 88,
   "metadata": {},
   "outputs": [],
   "source": [
    "import pandas as pd\n",
    "import numpy as np\n",
    "\n",
    "import seaborn as sns\n",
    "import matplotlib.pyplot as plt\n",
    "\n",
    "from scipy.stats import chi2_contingency\n",
    "\n",
    "from sklearn.preprocessing import StandardScaler\n",
    "from sklearn.model_selection import cross_val_score, KFold, train_test_split\n",
    "from sklearn.tree import DecisionTreeClassifier\n",
    "from sklearn.neighbors import KNeighborsClassifier\n",
    "from sklearn.ensemble import GradientBoostingClassifier\n",
    "from scipy.stats import iqr\n",
    "from sklearn.ensemble import RandomForestClassifier\n",
    "from sklearn.model_selection import RandomizedSearchCV\n",
    "from sklearn.model_selection import GridSearchCV\n",
    "from sklearn.metrics import classification_report\n",
    "\n",
    "import pickle\n",
    "import os"
   ]
  },
  {
   "cell_type": "markdown",
   "metadata": {},
   "source": [
    "A major step in the machine learning cycle is feature engineering. The goal is to choose a good balance of informative versus non-informative features for optimal model performance. This can be done either by *feature selection*, *feature extraction* (that is, combining existing features into stronger ones)  or collecting extra features from external data. (Ref 1) Only the first two methods will be attempted in this project."
   ]
  },
  {
   "cell_type": "code",
   "execution_count": 121,
   "metadata": {},
   "outputs": [],
   "source": [
    "# Importing the preprocessed data:\n",
    "train = pd.read_pickle('../Data/Preprocessed_1/train_preprocessed_1.pkl')"
   ]
  },
  {
   "cell_type": "code",
   "execution_count": 122,
   "metadata": {},
   "outputs": [
    {
     "name": "stderr",
     "output_type": "stream",
     "text": [
      "/var/folders/1z/2qtxqpxj07g0pvc7h463fm_w0000gn/T/ipykernel_87349/830464173.py:2: FutureWarning: Downcasting behavior in `replace` is deprecated and will be removed in a future version. To retain the old behavior, explicitly call `result.infer_objects(copy=False)`. To opt-in to the future behavior, set `pd.set_option('future.no_silent_downcasting', True)`\n",
      "  train['Satisfaction'] = train['Satisfaction'].replace(change).infer_objects(copy=False)\n",
      "/var/folders/1z/2qtxqpxj07g0pvc7h463fm_w0000gn/T/ipykernel_87349/830464173.py:2: FutureWarning: The behavior of Series.replace (and DataFrame.replace) with CategoricalDtype is deprecated. In a future version, replace will only be used for cases that preserve the categories. To change the categories, use ser.cat.rename_categories instead.\n",
      "  train['Satisfaction'] = train['Satisfaction'].replace(change).infer_objects(copy=False)\n"
     ]
    }
   ],
   "source": [
    "change = {'satisfied': 1, 'neutral or dissatisfied': 2}\n",
    "train['Satisfaction'] = train['Satisfaction'].replace(change).infer_objects(copy=False)\n",
    "train['Satisfaction'] = train['Satisfaction'].astype('int')\n",
    "\n",
    "# Convert to ordered categorical:\n",
    "train['Satisfaction'] = train['Satisfaction'].astype('category')\n",
    "train['Satisfaction'] = train['Satisfaction'].cat.set_categories(new_categories = [1, 2], ordered = True)"
   ]
  },
  {
   "cell_type": "code",
   "execution_count": 123,
   "metadata": {},
   "outputs": [],
   "source": [
    "# One-Hot Encoding:\n",
    "train = pd.get_dummies(train, columns = ['Gender', 'Customer Type', 'Type of Travel'], prefix = 'Dummy', dtype = int)"
   ]
  },
  {
   "cell_type": "code",
   "execution_count": 125,
   "metadata": {},
   "outputs": [],
   "source": [
    "# Saving the first preprocessed dataset to pickle to preserve data type information:\n",
    "# train.to_pickle('../Data/Preprocessed_1/train_preprocessed_1_dummies.pkl')"
   ]
  },
  {
   "cell_type": "code",
   "execution_count": 161,
   "metadata": {},
   "outputs": [],
   "source": [
    "# Importing the preprocessed data:\n",
    "train = pd.read_pickle('../Data/Preprocessed_1/train_preprocessed_1_dummies.pkl')"
   ]
  },
  {
   "cell_type": "markdown",
   "metadata": {},
   "source": [
    "## Feature Selection"
   ]
  },
  {
   "cell_type": "markdown",
   "metadata": {},
   "source": [
    "The simplest and most obvious method for feature engineering is the *feature selection* method. Variables which were shown to be correlated with the response variable, `Satisfaction`, in the EDA notebook will be included in the model. All other features will be kept out. "
   ]
  },
  {
   "cell_type": "code",
   "execution_count": 136,
   "metadata": {},
   "outputs": [],
   "source": [
    "# Importing the preprocessed data:\n",
    "train = pd.read_pickle('../Data/Preprocessed_1/train_preprocessed_1.pkl')"
   ]
  },
  {
   "cell_type": "code",
   "execution_count": 138,
   "metadata": {},
   "outputs": [
    {
     "data": {
      "text/plain": [
       "(98860, 18)"
      ]
     },
     "execution_count": 138,
     "metadata": {},
     "output_type": "execute_result"
    }
   ],
   "source": [
    "train_fs = train[['Age', 'Class', 'Flight Distance', 'Inflight Wifi Service', 'Ease of Online Booking', 'Food and Drink', 'Online Boarding',\n",
    "                       'Seat Comfort', 'Inflight Entertainment', 'On-board Service', 'Leg Room Service', 'Baggage Handling', \n",
    "                       'Checkin Service', 'Inflight Service', 'Cleanliness', 'Type of Travel', 'Customer Type', 'Gender']]\n",
    "\n",
    "train_fs.shape"
   ]
  },
  {
   "cell_type": "markdown",
   "metadata": {},
   "source": [
    "Before saving the dataset, nominal variables will be one-hot encoded."
   ]
  },
  {
   "cell_type": "code",
   "execution_count": 139,
   "metadata": {},
   "outputs": [
    {
     "data": {
      "text/html": [
       "<div>\n",
       "<style scoped>\n",
       "    .dataframe tbody tr th:only-of-type {\n",
       "        vertical-align: middle;\n",
       "    }\n",
       "\n",
       "    .dataframe tbody tr th {\n",
       "        vertical-align: top;\n",
       "    }\n",
       "\n",
       "    .dataframe thead th {\n",
       "        text-align: right;\n",
       "    }\n",
       "</style>\n",
       "<table border=\"1\" class=\"dataframe\">\n",
       "  <thead>\n",
       "    <tr style=\"text-align: right;\">\n",
       "      <th></th>\n",
       "      <th>Age</th>\n",
       "      <th>Class</th>\n",
       "      <th>Flight Distance</th>\n",
       "      <th>Inflight Wifi Service</th>\n",
       "      <th>Ease of Online Booking</th>\n",
       "      <th>Food and Drink</th>\n",
       "      <th>Online Boarding</th>\n",
       "      <th>Seat Comfort</th>\n",
       "      <th>Inflight Entertainment</th>\n",
       "      <th>On-board Service</th>\n",
       "      <th>...</th>\n",
       "      <th>Baggage Handling</th>\n",
       "      <th>Checkin Service</th>\n",
       "      <th>Inflight Service</th>\n",
       "      <th>Cleanliness</th>\n",
       "      <th>Dummy_Female</th>\n",
       "      <th>Dummy_Male</th>\n",
       "      <th>Dummy_Disloyal customer</th>\n",
       "      <th>Dummy_Loyal customer</th>\n",
       "      <th>Dummy_Business travel</th>\n",
       "      <th>Dummy_Personal travel</th>\n",
       "    </tr>\n",
       "  </thead>\n",
       "  <tbody>\n",
       "    <tr>\n",
       "      <th>0</th>\n",
       "      <td>13</td>\n",
       "      <td>2</td>\n",
       "      <td>460</td>\n",
       "      <td>3</td>\n",
       "      <td>3</td>\n",
       "      <td>5</td>\n",
       "      <td>3</td>\n",
       "      <td>5</td>\n",
       "      <td>5</td>\n",
       "      <td>4</td>\n",
       "      <td>...</td>\n",
       "      <td>4</td>\n",
       "      <td>4</td>\n",
       "      <td>5</td>\n",
       "      <td>5</td>\n",
       "      <td>0</td>\n",
       "      <td>1</td>\n",
       "      <td>0</td>\n",
       "      <td>1</td>\n",
       "      <td>0</td>\n",
       "      <td>1</td>\n",
       "    </tr>\n",
       "    <tr>\n",
       "      <th>1</th>\n",
       "      <td>25</td>\n",
       "      <td>3</td>\n",
       "      <td>235</td>\n",
       "      <td>3</td>\n",
       "      <td>3</td>\n",
       "      <td>1</td>\n",
       "      <td>3</td>\n",
       "      <td>1</td>\n",
       "      <td>1</td>\n",
       "      <td>1</td>\n",
       "      <td>...</td>\n",
       "      <td>3</td>\n",
       "      <td>1</td>\n",
       "      <td>4</td>\n",
       "      <td>1</td>\n",
       "      <td>0</td>\n",
       "      <td>1</td>\n",
       "      <td>1</td>\n",
       "      <td>0</td>\n",
       "      <td>1</td>\n",
       "      <td>0</td>\n",
       "    </tr>\n",
       "    <tr>\n",
       "      <th>2</th>\n",
       "      <td>26</td>\n",
       "      <td>3</td>\n",
       "      <td>1142</td>\n",
       "      <td>2</td>\n",
       "      <td>2</td>\n",
       "      <td>5</td>\n",
       "      <td>5</td>\n",
       "      <td>5</td>\n",
       "      <td>5</td>\n",
       "      <td>4</td>\n",
       "      <td>...</td>\n",
       "      <td>4</td>\n",
       "      <td>4</td>\n",
       "      <td>4</td>\n",
       "      <td>5</td>\n",
       "      <td>1</td>\n",
       "      <td>0</td>\n",
       "      <td>0</td>\n",
       "      <td>1</td>\n",
       "      <td>1</td>\n",
       "      <td>0</td>\n",
       "    </tr>\n",
       "    <tr>\n",
       "      <th>3</th>\n",
       "      <td>25</td>\n",
       "      <td>3</td>\n",
       "      <td>562</td>\n",
       "      <td>2</td>\n",
       "      <td>5</td>\n",
       "      <td>2</td>\n",
       "      <td>2</td>\n",
       "      <td>2</td>\n",
       "      <td>2</td>\n",
       "      <td>2</td>\n",
       "      <td>...</td>\n",
       "      <td>3</td>\n",
       "      <td>1</td>\n",
       "      <td>4</td>\n",
       "      <td>2</td>\n",
       "      <td>1</td>\n",
       "      <td>0</td>\n",
       "      <td>0</td>\n",
       "      <td>1</td>\n",
       "      <td>1</td>\n",
       "      <td>0</td>\n",
       "    </tr>\n",
       "    <tr>\n",
       "      <th>4</th>\n",
       "      <td>61</td>\n",
       "      <td>3</td>\n",
       "      <td>214</td>\n",
       "      <td>3</td>\n",
       "      <td>3</td>\n",
       "      <td>4</td>\n",
       "      <td>5</td>\n",
       "      <td>5</td>\n",
       "      <td>3</td>\n",
       "      <td>3</td>\n",
       "      <td>...</td>\n",
       "      <td>4</td>\n",
       "      <td>3</td>\n",
       "      <td>3</td>\n",
       "      <td>3</td>\n",
       "      <td>0</td>\n",
       "      <td>1</td>\n",
       "      <td>0</td>\n",
       "      <td>1</td>\n",
       "      <td>1</td>\n",
       "      <td>0</td>\n",
       "    </tr>\n",
       "  </tbody>\n",
       "</table>\n",
       "<p>5 rows × 21 columns</p>\n",
       "</div>"
      ],
      "text/plain": [
       "   Age Class  Flight Distance Inflight Wifi Service Ease of Online Booking  \\\n",
       "0   13     2              460                     3                      3   \n",
       "1   25     3              235                     3                      3   \n",
       "2   26     3             1142                     2                      2   \n",
       "3   25     3              562                     2                      5   \n",
       "4   61     3              214                     3                      3   \n",
       "\n",
       "  Food and Drink Online Boarding Seat Comfort Inflight Entertainment  \\\n",
       "0              5               3            5                      5   \n",
       "1              1               3            1                      1   \n",
       "2              5               5            5                      5   \n",
       "3              2               2            2                      2   \n",
       "4              4               5            5                      3   \n",
       "\n",
       "  On-board Service  ... Baggage Handling Checkin Service Inflight Service  \\\n",
       "0                4  ...                4               4                5   \n",
       "1                1  ...                3               1                4   \n",
       "2                4  ...                4               4                4   \n",
       "3                2  ...                3               1                4   \n",
       "4                3  ...                4               3                3   \n",
       "\n",
       "  Cleanliness Dummy_Female  Dummy_Male  Dummy_Disloyal customer  \\\n",
       "0           5            0           1                        0   \n",
       "1           1            0           1                        1   \n",
       "2           5            1           0                        0   \n",
       "3           2            1           0                        0   \n",
       "4           3            0           1                        0   \n",
       "\n",
       "   Dummy_Loyal customer  Dummy_Business travel  Dummy_Personal travel  \n",
       "0                     1                      0                      1  \n",
       "1                     0                      1                      0  \n",
       "2                     1                      1                      0  \n",
       "3                     1                      1                      0  \n",
       "4                     1                      1                      0  \n",
       "\n",
       "[5 rows x 21 columns]"
      ]
     },
     "execution_count": 139,
     "metadata": {},
     "output_type": "execute_result"
    }
   ],
   "source": [
    "train_fs = pd.get_dummies(train_fs, columns = ['Gender', 'Customer Type', 'Type of Travel'], prefix = 'Dummy', dtype = int)\n",
    "\n",
    "train_fs.head()"
   ]
  },
  {
   "cell_type": "code",
   "execution_count": 140,
   "metadata": {},
   "outputs": [],
   "source": [
    "# Saving the 'feature selected' dataset to pickle to preserve data type information:\n",
    "# train_fs.to_pickle('../Data/Feature_Selection/train_fs.pkl')"
   ]
  },
  {
   "cell_type": "code",
   "execution_count": 159,
   "metadata": {},
   "outputs": [],
   "source": [
    "# Importing the preprocessed data:\n",
    "train_fs = pd.read_pickle('../Data/Feature_Selection/train_fs.pkl')"
   ]
  },
  {
   "cell_type": "markdown",
   "metadata": {},
   "source": [
    "## Feature Extraction"
   ]
  },
  {
   "cell_type": "markdown",
   "metadata": {},
   "source": [
    "From the count plots in the exploratory data analysis notebook, it was evident that the categorical service-related features all had 'premium' services with which passengers were mostly satisfied. These corresponded to categories '4' and '5' for most variables. Two new variables will be created. The first will aggregate all the service-related features and give an overall score for the quality of service provided. The second, will be a binary variable indicating whether the overall service score is above '4'."
   ]
  },
  {
   "cell_type": "code",
   "execution_count": 152,
   "metadata": {},
   "outputs": [],
   "source": [
    "# Importing the preprocessed data:\n",
    "train_oss = pd.read_pickle('../Data/Preprocessed_1/train_preprocessed_1_dummies.pkl')"
   ]
  },
  {
   "cell_type": "code",
   "execution_count": 153,
   "metadata": {},
   "outputs": [],
   "source": [
    "train_oss['Overall Service Score'] = np.mean([train_oss['Departure/Arrival Time Convenient'].astype('int'), train_oss['Ease of Online Booking'].astype('int'), train_oss['Gate Location'].astype('int'),\n",
    "                                             train_oss['Food and Drink'].astype('int'), train_oss['Online Boarding'].astype('int'), train_oss['Seat Comfort'].astype('int'), train_oss['Inflight Entertainment'].astype('int'),\n",
    "                                             train_oss['On-board Service'].astype('int'), train_oss['Leg Room Service'].astype('int'), train_oss['Baggage Handling'].astype('int'), train_oss['Checkin Service'].astype('int')], axis = 0).round()\n",
    "\n",
    "train_oss['Overall Service Score'] = train_oss['Overall Service Score'].astype('int')"
   ]
  },
  {
   "cell_type": "code",
   "execution_count": 154,
   "metadata": {},
   "outputs": [],
   "source": [
    "premium_service = {1: 0,\n",
    "                   2: 0,\n",
    "                   3: 0,\n",
    "                   4: 1,\n",
    "                   5: 1}\n",
    "train_oss['Premium Service'] = train_oss['Overall Service Score'].replace(premium_service)"
   ]
  },
  {
   "cell_type": "code",
   "execution_count": 156,
   "metadata": {},
   "outputs": [],
   "source": [
    "# Saving the 'feature selected' dataset to pickle to preserve data type information:\n",
    "# train_oss.to_pickle('../Data/Feature_Extraction/train_oss.pkl')"
   ]
  },
  {
   "cell_type": "code",
   "execution_count": 157,
   "metadata": {},
   "outputs": [],
   "source": [
    "# Importing the preprocessed data:\n",
    "train_oss = pd.read_pickle('../Data/Feature_Extraction/train_oss.pkl')"
   ]
  },
  {
   "cell_type": "markdown",
   "metadata": {},
   "source": [
    "# References"
   ]
  },
  {
   "cell_type": "markdown",
   "metadata": {},
   "source": [
    "1. Aurelian Géron, Hands-On Machine Learning with Scikit-Learn, Keras and TensorFlow (3rd Edition). Kindle"
   ]
  }
 ],
 "metadata": {
  "kernelspec": {
   "display_name": "Python 3",
   "language": "python",
   "name": "python3"
  },
  "language_info": {
   "codemirror_mode": {
    "name": "ipython",
    "version": 3
   },
   "file_extension": ".py",
   "mimetype": "text/x-python",
   "name": "python",
   "nbconvert_exporter": "python",
   "pygments_lexer": "ipython3",
   "version": "3.11.3"
  }
 },
 "nbformat": 4,
 "nbformat_minor": 2
}
