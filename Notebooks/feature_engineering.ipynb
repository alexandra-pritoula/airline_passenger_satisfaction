{
 "cells": [
  {
   "cell_type": "markdown",
   "metadata": {},
   "source": [
    "# Feature Engineering"
   ]
  },
  {
   "cell_type": "code",
   "execution_count": 1,
   "metadata": {},
   "outputs": [],
   "source": [
    "import pandas as pd\n",
    "import numpy as np\n",
    "import pickle"
   ]
  },
  {
   "cell_type": "markdown",
   "metadata": {},
   "source": [
    "A major step in the machine learning cycle is feature engineering. The goal is to choose a good balance of informative versus non-informative features for optimal model performance. This can be done either by *feature selection*, *feature extraction* (that is, combining existing features into stronger ones)  or collecting extra features from external data [(Aurelian Géron, 2023)](#ref-Geron2023). Only the first two methods will be attempted in this project."
   ]
  },
  {
   "cell_type": "markdown",
   "metadata": {},
   "source": [
    "## Feature Selection"
   ]
  },
  {
   "cell_type": "markdown",
   "metadata": {},
   "source": [
    "The simplest and most obvious method for feature engineering is the *feature selection* method. Variables shown to be correlated with the response variable, `Satisfaction`, in the EDA notebook will be included in the model. All other features will be kept out. "
   ]
  },
  {
   "cell_type": "code",
   "execution_count": 19,
   "metadata": {},
   "outputs": [],
   "source": [
    "# Importing the preprocessed data:\n",
    "train = pd.read_pickle('../Data/Preprocessed/non_applicable_imputed.pkl')"
   ]
  },
  {
   "cell_type": "code",
   "execution_count": 20,
   "metadata": {},
   "outputs": [
    {
     "data": {
      "text/plain": [
       "(103904, 21)"
      ]
     },
     "execution_count": 20,
     "metadata": {},
     "output_type": "execute_result"
    }
   ],
   "source": [
    "train_fs = train.drop(['id', 'Departure/Arrival Time Convenient', 'Gate Location', \n",
    "                      'Departure Delay in Minutes', 'Arrival Delay in Minutes', 'Age'], axis = 1)\n",
    "train_fs.shape"
   ]
  },
  {
   "cell_type": "code",
   "execution_count": 21,
   "metadata": {},
   "outputs": [],
   "source": [
    "# Saving the 'feature selected' dataset to pickle to preserve data type information:\n",
    "train_fs.to_pickle('../Data/Feature_Selection/train_fs.pkl')"
   ]
  },
  {
   "cell_type": "markdown",
   "metadata": {},
   "source": [
    "## Feature Extraction"
   ]
  },
  {
   "cell_type": "markdown",
   "metadata": {},
   "source": [
    "The count plots in the exploratory data analysis notebook revealed that the categorical service-related features all included 'premium' services with which passengers were mostly satisfied. These corresponded to categories '4' and '5' for most variables. Two new variables will be created: the first will aggregate all the service-related features and provide an overall score for the quality of service delivered; the second will be a binary variable indicating whether the overall service score is above '4'."
   ]
  },
  {
   "cell_type": "code",
   "execution_count": 24,
   "metadata": {},
   "outputs": [],
   "source": [
    "# Importing the preprocessed data:\n",
    "train_oss = pd.read_pickle('../Data/Preprocessed/non_applicable_imputed.pkl')"
   ]
  },
  {
   "cell_type": "code",
   "execution_count": 25,
   "metadata": {},
   "outputs": [],
   "source": [
    "train_oss['Overall Service Score'] = np.mean([train_oss['Departure/Arrival Time Convenient'].astype('int'), train_oss['Ease of Online Booking'].astype('int'), train_oss['Gate Location'].astype('int'),\n",
    "                                             train_oss['Food and Drink'].astype('int'), train_oss['Online Boarding'].astype('int'), train_oss['Seat Comfort'].astype('int'), train_oss['Inflight Entertainment'].astype('int'),\n",
    "                                             train_oss['On-board Service'].astype('int'), train_oss['Leg Room Service'].astype('int'), train_oss['Baggage Handling'].astype('int'), train_oss['Checkin Service'].astype('int')], axis = 0).round()\n",
    "\n",
    "train_oss['Overall Service Score'] = train_oss['Overall Service Score'].astype('int')"
   ]
  },
  {
   "cell_type": "code",
   "execution_count": 26,
   "metadata": {},
   "outputs": [],
   "source": [
    "premium_service = {1: 0,\n",
    "                   2: 0,\n",
    "                   3: 0,\n",
    "                   4: 1,\n",
    "                   5: 1}\n",
    "train_oss['Premium Service'] = train_oss['Overall Service Score'].replace(premium_service)"
   ]
  },
  {
   "cell_type": "code",
   "execution_count": 27,
   "metadata": {},
   "outputs": [],
   "source": [
    "# Saving the 'feature selected' dataset to pickle to preserve data type information:\n",
    "train_oss.to_pickle('../Data/Feature_Extraction/train_oss.pkl')"
   ]
  },
  {
   "cell_type": "markdown",
   "metadata": {},
   "source": [
    "# References"
   ]
  },
  {
   "cell_type": "markdown",
   "metadata": {},
   "source": [
    "1. <a id=\"ref-Geron2023\"></a>Aurelian Géron, Hands-On Machine Learning with Scikit-Learn, Keras and TensorFlow (3rd Edition), O'Reilly Media Inc, 20 January 2023."
   ]
  },
  {
   "cell_type": "markdown",
   "metadata": {},
   "source": []
  }
 ],
 "metadata": {
  "kernelspec": {
   "display_name": "Python 3",
   "language": "python",
   "name": "python3"
  },
  "language_info": {
   "codemirror_mode": {
    "name": "ipython",
    "version": 3
   },
   "file_extension": ".py",
   "mimetype": "text/x-python",
   "name": "python",
   "nbconvert_exporter": "python",
   "pygments_lexer": "ipython3",
   "version": "3.11.3"
  }
 },
 "nbformat": 4,
 "nbformat_minor": 2
}
