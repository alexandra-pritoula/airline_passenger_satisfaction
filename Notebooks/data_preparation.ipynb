{
 "cells": [
  {
   "cell_type": "markdown",
   "metadata": {},
   "source": [
    "# Data Preparation"
   ]
  },
  {
   "cell_type": "code",
   "execution_count": 1522,
   "metadata": {},
   "outputs": [],
   "source": [
    "import pandas as pd\n",
    "import seaborn as sns\n",
    "import matplotlib.pyplot as plt"
   ]
  },
  {
   "cell_type": "markdown",
   "metadata": {},
   "source": [
    " This study is based on a survey conducted on 103904 airline passengers. There is limited information on the background of the dataset and how the data was collected. The dataset has been downloaded from the Kaggle website and can be found at the following [link](https://www.kaggle.com/datasets/teejmahal20/airline-passenger-satisfaction/data). The main goal of the project is to determine the features most strongly correlated with customer satisfaction and to create a model to predict new customer's satisfaction levels. Since the response variable, `satisfaction`, is binary this is a classification problem or a supervised learning task. There are 23 features in total, most of which are categorical in nature. According to the creators of the data set, it has already been preprocessed for the purpose of classification. However, the dataset will be validated and reprocessed in this notebook. "
   ]
  },
  {
   "cell_type": "markdown",
   "metadata": {},
   "source": [
    "## Cleaning and Transforming the Train Data Set"
   ]
  },
  {
   "cell_type": "code",
   "execution_count": 1523,
   "metadata": {},
   "outputs": [
    {
     "data": {
      "text/html": [
       "<div>\n",
       "<style scoped>\n",
       "    .dataframe tbody tr th:only-of-type {\n",
       "        vertical-align: middle;\n",
       "    }\n",
       "\n",
       "    .dataframe tbody tr th {\n",
       "        vertical-align: top;\n",
       "    }\n",
       "\n",
       "    .dataframe thead th {\n",
       "        text-align: right;\n",
       "    }\n",
       "</style>\n",
       "<table border=\"1\" class=\"dataframe\">\n",
       "  <thead>\n",
       "    <tr style=\"text-align: right;\">\n",
       "      <th></th>\n",
       "      <th>id</th>\n",
       "      <th>Gender</th>\n",
       "      <th>Customer Type</th>\n",
       "      <th>Age</th>\n",
       "      <th>Type of Travel</th>\n",
       "      <th>Class</th>\n",
       "      <th>Flight Distance</th>\n",
       "      <th>Inflight wifi service</th>\n",
       "      <th>Departure/Arrival time convenient</th>\n",
       "      <th>Ease of Online booking</th>\n",
       "      <th>...</th>\n",
       "      <th>Inflight entertainment</th>\n",
       "      <th>On-board service</th>\n",
       "      <th>Leg room service</th>\n",
       "      <th>Baggage handling</th>\n",
       "      <th>Checkin service</th>\n",
       "      <th>Inflight service</th>\n",
       "      <th>Cleanliness</th>\n",
       "      <th>Departure Delay in Minutes</th>\n",
       "      <th>Arrival Delay in Minutes</th>\n",
       "      <th>satisfaction</th>\n",
       "    </tr>\n",
       "  </thead>\n",
       "  <tbody>\n",
       "    <tr>\n",
       "      <th>0</th>\n",
       "      <td>70172</td>\n",
       "      <td>Male</td>\n",
       "      <td>Loyal Customer</td>\n",
       "      <td>13</td>\n",
       "      <td>Personal Travel</td>\n",
       "      <td>Eco Plus</td>\n",
       "      <td>460</td>\n",
       "      <td>3</td>\n",
       "      <td>4</td>\n",
       "      <td>3</td>\n",
       "      <td>...</td>\n",
       "      <td>5</td>\n",
       "      <td>4</td>\n",
       "      <td>3</td>\n",
       "      <td>4</td>\n",
       "      <td>4</td>\n",
       "      <td>5</td>\n",
       "      <td>5</td>\n",
       "      <td>25</td>\n",
       "      <td>18.0</td>\n",
       "      <td>neutral or dissatisfied</td>\n",
       "    </tr>\n",
       "    <tr>\n",
       "      <th>1</th>\n",
       "      <td>5047</td>\n",
       "      <td>Male</td>\n",
       "      <td>disloyal Customer</td>\n",
       "      <td>25</td>\n",
       "      <td>Business travel</td>\n",
       "      <td>Business</td>\n",
       "      <td>235</td>\n",
       "      <td>3</td>\n",
       "      <td>2</td>\n",
       "      <td>3</td>\n",
       "      <td>...</td>\n",
       "      <td>1</td>\n",
       "      <td>1</td>\n",
       "      <td>5</td>\n",
       "      <td>3</td>\n",
       "      <td>1</td>\n",
       "      <td>4</td>\n",
       "      <td>1</td>\n",
       "      <td>1</td>\n",
       "      <td>6.0</td>\n",
       "      <td>neutral or dissatisfied</td>\n",
       "    </tr>\n",
       "    <tr>\n",
       "      <th>2</th>\n",
       "      <td>110028</td>\n",
       "      <td>Female</td>\n",
       "      <td>Loyal Customer</td>\n",
       "      <td>26</td>\n",
       "      <td>Business travel</td>\n",
       "      <td>Business</td>\n",
       "      <td>1142</td>\n",
       "      <td>2</td>\n",
       "      <td>2</td>\n",
       "      <td>2</td>\n",
       "      <td>...</td>\n",
       "      <td>5</td>\n",
       "      <td>4</td>\n",
       "      <td>3</td>\n",
       "      <td>4</td>\n",
       "      <td>4</td>\n",
       "      <td>4</td>\n",
       "      <td>5</td>\n",
       "      <td>0</td>\n",
       "      <td>0.0</td>\n",
       "      <td>satisfied</td>\n",
       "    </tr>\n",
       "    <tr>\n",
       "      <th>3</th>\n",
       "      <td>24026</td>\n",
       "      <td>Female</td>\n",
       "      <td>Loyal Customer</td>\n",
       "      <td>25</td>\n",
       "      <td>Business travel</td>\n",
       "      <td>Business</td>\n",
       "      <td>562</td>\n",
       "      <td>2</td>\n",
       "      <td>5</td>\n",
       "      <td>5</td>\n",
       "      <td>...</td>\n",
       "      <td>2</td>\n",
       "      <td>2</td>\n",
       "      <td>5</td>\n",
       "      <td>3</td>\n",
       "      <td>1</td>\n",
       "      <td>4</td>\n",
       "      <td>2</td>\n",
       "      <td>11</td>\n",
       "      <td>9.0</td>\n",
       "      <td>neutral or dissatisfied</td>\n",
       "    </tr>\n",
       "    <tr>\n",
       "      <th>4</th>\n",
       "      <td>119299</td>\n",
       "      <td>Male</td>\n",
       "      <td>Loyal Customer</td>\n",
       "      <td>61</td>\n",
       "      <td>Business travel</td>\n",
       "      <td>Business</td>\n",
       "      <td>214</td>\n",
       "      <td>3</td>\n",
       "      <td>3</td>\n",
       "      <td>3</td>\n",
       "      <td>...</td>\n",
       "      <td>3</td>\n",
       "      <td>3</td>\n",
       "      <td>4</td>\n",
       "      <td>4</td>\n",
       "      <td>3</td>\n",
       "      <td>3</td>\n",
       "      <td>3</td>\n",
       "      <td>0</td>\n",
       "      <td>0.0</td>\n",
       "      <td>satisfied</td>\n",
       "    </tr>\n",
       "  </tbody>\n",
       "</table>\n",
       "<p>5 rows × 24 columns</p>\n",
       "</div>"
      ],
      "text/plain": [
       "       id  Gender      Customer Type  Age   Type of Travel     Class  \\\n",
       "0   70172    Male     Loyal Customer   13  Personal Travel  Eco Plus   \n",
       "1    5047    Male  disloyal Customer   25  Business travel  Business   \n",
       "2  110028  Female     Loyal Customer   26  Business travel  Business   \n",
       "3   24026  Female     Loyal Customer   25  Business travel  Business   \n",
       "4  119299    Male     Loyal Customer   61  Business travel  Business   \n",
       "\n",
       "   Flight Distance  Inflight wifi service  Departure/Arrival time convenient  \\\n",
       "0              460                      3                                  4   \n",
       "1              235                      3                                  2   \n",
       "2             1142                      2                                  2   \n",
       "3              562                      2                                  5   \n",
       "4              214                      3                                  3   \n",
       "\n",
       "   Ease of Online booking  ...  Inflight entertainment  On-board service  \\\n",
       "0                       3  ...                       5                 4   \n",
       "1                       3  ...                       1                 1   \n",
       "2                       2  ...                       5                 4   \n",
       "3                       5  ...                       2                 2   \n",
       "4                       3  ...                       3                 3   \n",
       "\n",
       "   Leg room service  Baggage handling  Checkin service  Inflight service  \\\n",
       "0                 3                 4                4                 5   \n",
       "1                 5                 3                1                 4   \n",
       "2                 3                 4                4                 4   \n",
       "3                 5                 3                1                 4   \n",
       "4                 4                 4                3                 3   \n",
       "\n",
       "   Cleanliness  Departure Delay in Minutes  Arrival Delay in Minutes  \\\n",
       "0            5                          25                      18.0   \n",
       "1            1                           1                       6.0   \n",
       "2            5                           0                       0.0   \n",
       "3            2                          11                       9.0   \n",
       "4            3                           0                       0.0   \n",
       "\n",
       "              satisfaction  \n",
       "0  neutral or dissatisfied  \n",
       "1  neutral or dissatisfied  \n",
       "2                satisfied  \n",
       "3  neutral or dissatisfied  \n",
       "4                satisfied  \n",
       "\n",
       "[5 rows x 24 columns]"
      ]
     },
     "execution_count": 1523,
     "metadata": {},
     "output_type": "execute_result"
    }
   ],
   "source": [
    "train = pd.read_csv('../Data/Raw/train.csv', index_col = 0)\n",
    "train.head()"
   ]
  },
  {
   "cell_type": "code",
   "execution_count": 1524,
   "metadata": {},
   "outputs": [
    {
     "name": "stdout",
     "output_type": "stream",
     "text": [
      "<class 'pandas.core.frame.DataFrame'>\n",
      "Index: 103904 entries, 0 to 103903\n",
      "Data columns (total 24 columns):\n",
      " #   Column                             Non-Null Count   Dtype  \n",
      "---  ------                             --------------   -----  \n",
      " 0   id                                 103904 non-null  int64  \n",
      " 1   Gender                             103904 non-null  object \n",
      " 2   Customer Type                      103904 non-null  object \n",
      " 3   Age                                103904 non-null  int64  \n",
      " 4   Type of Travel                     103904 non-null  object \n",
      " 5   Class                              103904 non-null  object \n",
      " 6   Flight Distance                    103904 non-null  int64  \n",
      " 7   Inflight wifi service              103904 non-null  int64  \n",
      " 8   Departure/Arrival time convenient  103904 non-null  int64  \n",
      " 9   Ease of Online booking             103904 non-null  int64  \n",
      " 10  Gate location                      103904 non-null  int64  \n",
      " 11  Food and drink                     103904 non-null  int64  \n",
      " 12  Online boarding                    103904 non-null  int64  \n",
      " 13  Seat comfort                       103904 non-null  int64  \n",
      " 14  Inflight entertainment             103904 non-null  int64  \n",
      " 15  On-board service                   103904 non-null  int64  \n",
      " 16  Leg room service                   103904 non-null  int64  \n",
      " 17  Baggage handling                   103904 non-null  int64  \n",
      " 18  Checkin service                    103904 non-null  int64  \n",
      " 19  Inflight service                   103904 non-null  int64  \n",
      " 20  Cleanliness                        103904 non-null  int64  \n",
      " 21  Departure Delay in Minutes         103904 non-null  int64  \n",
      " 22  Arrival Delay in Minutes           103594 non-null  float64\n",
      " 23  satisfaction                       103904 non-null  object \n",
      "dtypes: float64(1), int64(18), object(5)\n",
      "memory usage: 19.8+ MB\n",
      "None\n"
     ]
    }
   ],
   "source": [
    "# Checking for missing values:\n",
    "print(train.info())"
   ]
  },
  {
   "cell_type": "markdown",
   "metadata": {},
   "source": [
    "There appear to be no missing values in the dataset. However, in the description of the data, categorical variables which contain a category numbered '0' are 'unapplicable' and will be considered as missing. "
   ]
  },
  {
   "cell_type": "code",
   "execution_count": 1525,
   "metadata": {},
   "outputs": [
    {
     "name": "stdout",
     "output_type": "stream",
     "text": [
      "Data is duplicated: False\n"
     ]
    }
   ],
   "source": [
    "# Checking for duplicate entries:\n",
    "print(f'Data is duplicated:', train.duplicated().any())"
   ]
  },
  {
   "cell_type": "code",
   "execution_count": 1526,
   "metadata": {},
   "outputs": [
    {
     "name": "stdout",
     "output_type": "stream",
     "text": [
      "Data shape: (103904, 24)\n"
     ]
    }
   ],
   "source": [
    "# Checking the shape of the dataset:\n",
    "print(f'Data shape:', train.shape)"
   ]
  },
  {
   "cell_type": "markdown",
   "metadata": {},
   "source": [
    "There are no duplicate entries in the dataset. \n",
    "\n",
    "Each feature of the dataset will be checked, validated and formatted individually, below:"
   ]
  },
  {
   "cell_type": "code",
   "execution_count": 1527,
   "metadata": {},
   "outputs": [
    {
     "name": "stdout",
     "output_type": "stream",
     "text": [
      "Length of unique ID values: 103904\n"
     ]
    }
   ],
   "source": [
    "# Checking whether the `id` column has only unique values:\n",
    "print(f'Length of unique ID values:', len(train['id'].unique()))"
   ]
  },
  {
   "cell_type": "code",
   "execution_count": 1528,
   "metadata": {},
   "outputs": [
    {
     "data": {
      "text/plain": [
       "['Male', 'Female']\n",
       "Categories (2, object): ['Female', 'Male']"
      ]
     },
     "execution_count": 1528,
     "metadata": {},
     "output_type": "execute_result"
    }
   ],
   "source": [
    "# Unique column values:\n",
    "train['Gender'].unique()\n",
    "# Coverting to categorical:\n",
    "train['Gender'] = train['Gender'].astype('category')\n",
    "train['Gender'].unique()"
   ]
  },
  {
   "cell_type": "code",
   "execution_count": 1529,
   "metadata": {},
   "outputs": [
    {
     "data": {
      "text/plain": [
       "['Loyal customer', 'Disloyal customer']\n",
       "Categories (2, object): ['Disloyal customer', 'Loyal customer']"
      ]
     },
     "execution_count": 1529,
     "metadata": {},
     "output_type": "execute_result"
    }
   ],
   "source": [
    "# Unique column values:\n",
    "train['Customer Type'].unique()\n",
    "# Formatting the column:\n",
    "train['Customer Type'] = train['Customer Type'].str.capitalize()\n",
    "# Coverting to categorical:\n",
    "train['Customer Type'] = train['Customer Type'].astype('category')\n",
    "train['Customer Type'].unique()"
   ]
  },
  {
   "cell_type": "code",
   "execution_count": 1530,
   "metadata": {},
   "outputs": [
    {
     "name": "stdout",
     "output_type": "stream",
     "text": [
      "Minimum Age: 7\n",
      "Maximum Age: 85\n"
     ]
    }
   ],
   "source": [
    "# Unique column values:\n",
    "train['Age'].unique()\n",
    "# Validating the data:\n",
    "print('Minimum Age:', train['Age'].min())\n",
    "print('Maximum Age:', train['Age'].max())"
   ]
  },
  {
   "cell_type": "code",
   "execution_count": 1531,
   "metadata": {},
   "outputs": [
    {
     "data": {
      "text/plain": [
       "['Personal travel', 'Business travel']\n",
       "Categories (2, object): ['Business travel', 'Personal travel']"
      ]
     },
     "execution_count": 1531,
     "metadata": {},
     "output_type": "execute_result"
    }
   ],
   "source": [
    "# Unique column values:\n",
    "train['Type of Travel'].unique()\n",
    "# Capitalising the info:\n",
    "train['Type of Travel'] = train['Type of Travel'].str.capitalize()\n",
    "# Coverting to categorical:\n",
    "train['Type of Travel'] = train['Type of Travel'].astype('category')\n",
    "train['Type of Travel'].unique()"
   ]
  },
  {
   "cell_type": "code",
   "execution_count": 1532,
   "metadata": {},
   "outputs": [
    {
     "data": {
      "text/plain": [
       "['2', '3', '1']\n",
       "Categories (3, object): ['1' < '2' < '3']"
      ]
     },
     "execution_count": 1532,
     "metadata": {},
     "output_type": "execute_result"
    }
   ],
   "source": [
    "# Unique column values:\n",
    "train['Class'].unique()\n",
    "train['Class'] = train['Class'].str.replace('Eco', '1')\n",
    "train['Class'] = train['Class'].str.replace('1 Plus', '2')\n",
    "train['Class'] = train['Class'].str.replace('Business', '3')\n",
    "# Converting to categorical:\n",
    "train['Class'] = train['Class'].astype('category')\n",
    "train['Class'] = train['Class'].cat.set_categories(new_categories = ['1', '2', '3'], ordered = True)\n",
    "train['Class'].unique()"
   ]
  },
  {
   "cell_type": "code",
   "execution_count": 1533,
   "metadata": {},
   "outputs": [
    {
     "name": "stdout",
     "output_type": "stream",
     "text": [
      "Minimum Flight Distance: 31\n",
      "Maximum Flight Distance: 4983\n"
     ]
    }
   ],
   "source": [
    "# Unique column values:\n",
    "train['Flight Distance'].unique()\n",
    "# Validating the data:\n",
    "print('Minimum Flight Distance:', train['Flight Distance'].min())\n",
    "print('Maximum Flight Distance:', train['Flight Distance'].max())"
   ]
  },
  {
   "cell_type": "code",
   "execution_count": 1534,
   "metadata": {},
   "outputs": [
    {
     "data": {
      "text/plain": [
       "[3, 2, 4, 1, 5, NaN]\n",
       "Categories (5, int64): [1 < 2 < 3 < 4 < 5]"
      ]
     },
     "execution_count": 1534,
     "metadata": {},
     "output_type": "execute_result"
    }
   ],
   "source": [
    "# Unique column values:\n",
    "train['Inflight wifi service'].unique()\n",
    "# Converting to ordered categorical:\n",
    "train['Inflight wifi service'] = train['Inflight wifi service'].astype('category')\n",
    "train['Inflight wifi service'] = train['Inflight wifi service'].cat.set_categories(new_categories = [1, 2, 3, 4, 5], ordered = True)\n",
    "train['Inflight wifi service'].unique()"
   ]
  },
  {
   "cell_type": "code",
   "execution_count": 1535,
   "metadata": {},
   "outputs": [
    {
     "data": {
      "text/plain": [
       "[4, 2, 5, 3, 1, NaN]\n",
       "Categories (5, int64): [1 < 2 < 3 < 4 < 5]"
      ]
     },
     "execution_count": 1535,
     "metadata": {},
     "output_type": "execute_result"
    }
   ],
   "source": [
    "# Unique column values:\n",
    "train['Departure/Arrival time convenient'].unique()\n",
    "\n",
    "# Converting to ordered categorical:\n",
    "train['Departure/Arrival time convenient'] = train['Departure/Arrival time convenient'].astype('category')\n",
    "\n",
    "# Rearranging category order:\n",
    "train['Departure/Arrival time convenient'] = train['Departure/Arrival time convenient'].cat.set_categories(new_categories = [1, 2, 3, 4, 5],\n",
    "                                                                                                           ordered = True)\n",
    "train['Departure/Arrival time convenient'].unique()\n"
   ]
  },
  {
   "cell_type": "code",
   "execution_count": 1536,
   "metadata": {},
   "outputs": [
    {
     "data": {
      "text/plain": [
       "[3, 2, 5, 4, 1, NaN]\n",
       "Categories (5, int64): [1 < 2 < 3 < 4 < 5]"
      ]
     },
     "execution_count": 1536,
     "metadata": {},
     "output_type": "execute_result"
    }
   ],
   "source": [
    "# Unique column values:\n",
    "train['Ease of Online booking'].unique()\n",
    "# Converting to ordered categorical:\n",
    "train['Ease of Online booking'] = train['Ease of Online booking'].astype('category')\n",
    "train['Ease of Online booking'] = train['Ease of Online booking'].cat.set_categories(new_categories = [1, 2, 3, 4, 5], \n",
    "                                                                                     ordered = True)\n",
    "train['Ease of Online booking'].unique()"
   ]
  },
  {
   "cell_type": "code",
   "execution_count": 1537,
   "metadata": {},
   "outputs": [
    {
     "data": {
      "text/plain": [
       "[1, 3, 2, 5, 4, NaN]\n",
       "Categories (5, int64): [1 < 2 < 3 < 4 < 5]"
      ]
     },
     "execution_count": 1537,
     "metadata": {},
     "output_type": "execute_result"
    }
   ],
   "source": [
    "# Unique column values:\n",
    "train['Gate location'].unique()\n",
    "# Converting to ordered categorical:\n",
    "train['Gate location'] = train['Gate location'].astype('category')\n",
    "train['Gate location'] = train['Gate location'].cat.set_categories(new_categories = [1, 2, 3, 4, 5], ordered = True)\n",
    "train['Gate location'].unique()"
   ]
  },
  {
   "cell_type": "code",
   "execution_count": 1538,
   "metadata": {},
   "outputs": [
    {
     "data": {
      "text/plain": [
       "[5, 1, 2, 4, 3, NaN]\n",
       "Categories (5, int64): [1 < 2 < 3 < 4 < 5]"
      ]
     },
     "execution_count": 1538,
     "metadata": {},
     "output_type": "execute_result"
    }
   ],
   "source": [
    "# Unique column values:\n",
    "train['Food and drink'].unique()\n",
    "# Converting to ordered categorical:\n",
    "train['Food and drink'] = train['Food and drink'].astype('category')\n",
    "train['Food and drink'] = train['Food and drink'].cat.set_categories(new_categories = [1, 2, 3, 4, 5], ordered = True)\n",
    "train['Food and drink'].unique()"
   ]
  },
  {
   "cell_type": "code",
   "execution_count": 1539,
   "metadata": {},
   "outputs": [
    {
     "data": {
      "text/plain": [
       "[3, 5, 2, 1, 4, NaN]\n",
       "Categories (5, int64): [1 < 2 < 3 < 4 < 5]"
      ]
     },
     "execution_count": 1539,
     "metadata": {},
     "output_type": "execute_result"
    }
   ],
   "source": [
    "# Unique column values:\n",
    "train['Online boarding'].unique()\n",
    "# Converting to ordered categorical:\n",
    "train['Online boarding'] = train['Online boarding'].astype('category')\n",
    "train['Online boarding'] = train['Online boarding'].cat.set_categories(new_categories = [1, 2, 3, 4, 5], ordered = True)\n",
    "train['Online boarding'].unique()"
   ]
  },
  {
   "cell_type": "code",
   "execution_count": 1540,
   "metadata": {},
   "outputs": [
    {
     "data": {
      "text/plain": [
       "[5, 1, 2, 3, 4, NaN]\n",
       "Categories (5, int64): [1 < 2 < 3 < 4 < 5]"
      ]
     },
     "execution_count": 1540,
     "metadata": {},
     "output_type": "execute_result"
    }
   ],
   "source": [
    "# Unique column values:\n",
    "train['Seat comfort'].unique()\n",
    "# Converting to ordered categorical:\n",
    "train['Seat comfort'] = train['Seat comfort'].astype('category')\n",
    "train['Seat comfort'] = train['Seat comfort'].cat.set_categories(new_categories = [1, 2, 3, 4, 5], ordered = True)\n",
    "train['Seat comfort'].unique()\n"
   ]
  },
  {
   "cell_type": "code",
   "execution_count": 1541,
   "metadata": {},
   "outputs": [
    {
     "data": {
      "text/plain": [
       "[5, 1, 2, 3, 4, NaN]\n",
       "Categories (5, int64): [1 < 2 < 3 < 4 < 5]"
      ]
     },
     "execution_count": 1541,
     "metadata": {},
     "output_type": "execute_result"
    }
   ],
   "source": [
    "# Unique column values:\n",
    "train['Inflight entertainment'].unique()\n",
    "# Converting to ordered categorical:\n",
    "train['Inflight entertainment'] = train['Inflight entertainment'].astype('category')\n",
    "train['Inflight entertainment'] = train['Inflight entertainment'].cat.set_categories(new_categories = [1, 2, 3, 4, 5], ordered = True)\n",
    "train['Inflight entertainment'].unique()"
   ]
  },
  {
   "cell_type": "code",
   "execution_count": 1542,
   "metadata": {},
   "outputs": [
    {
     "data": {
      "text/plain": [
       "[4, 1, 2, 3, 5, NaN]\n",
       "Categories (5, int64): [1 < 2 < 3 < 4 < 5]"
      ]
     },
     "execution_count": 1542,
     "metadata": {},
     "output_type": "execute_result"
    }
   ],
   "source": [
    "# Unique column values:\n",
    "train['On-board service'].unique()\n",
    "# Converting to ordered categorical:\n",
    "train['On-board service'] = train['On-board service'].astype('category')\n",
    "train['On-board service'] = train['On-board service'].cat.set_categories(new_categories = [1, 2, 3, 4, 5], ordered = True)\n",
    "train['On-board service'].unique()\n"
   ]
  },
  {
   "cell_type": "code",
   "execution_count": 1543,
   "metadata": {},
   "outputs": [
    {
     "data": {
      "text/plain": [
       "[3, 5, 4, 2, 1, NaN]\n",
       "Categories (5, int64): [1 < 2 < 3 < 4 < 5]"
      ]
     },
     "execution_count": 1543,
     "metadata": {},
     "output_type": "execute_result"
    }
   ],
   "source": [
    "# Unique column values:\n",
    "train['Leg room service'].unique()\n",
    "# Converting to ordered categorical:\n",
    "train['Leg room service'] = train['Leg room service'].astype('category')\n",
    "train['Leg room service'] = train['Leg room service'].cat.set_categories(new_categories = [1, 2, 3, 4, 5], ordered = True)\n",
    "train['Leg room service'].unique()"
   ]
  },
  {
   "cell_type": "code",
   "execution_count": 1544,
   "metadata": {},
   "outputs": [
    {
     "data": {
      "text/plain": [
       "[4, 3, 5, 1, 2]\n",
       "Categories (5, int64): [1 < 2 < 3 < 4 < 5]"
      ]
     },
     "execution_count": 1544,
     "metadata": {},
     "output_type": "execute_result"
    }
   ],
   "source": [
    "# Unique column values:\n",
    "train['Baggage handling'].unique()\n",
    "# Converting to ordered categorical:\n",
    "train['Baggage handling'] = train['Baggage handling'].astype('category')\n",
    "train['Baggage handling'] = train['Baggage handling'].cat.set_categories(new_categories = [1, 2, 3, 4, 5], ordered = True)\n",
    "train['Baggage handling'].unique()\n"
   ]
  },
  {
   "cell_type": "code",
   "execution_count": 1545,
   "metadata": {},
   "outputs": [
    {
     "data": {
      "text/plain": [
       "[4, 1, 3, 5, 2, NaN]\n",
       "Categories (5, int64): [1 < 2 < 3 < 4 < 5]"
      ]
     },
     "execution_count": 1545,
     "metadata": {},
     "output_type": "execute_result"
    }
   ],
   "source": [
    "# Unique column values:\n",
    "train['Checkin service'].unique()\n",
    "# Converting to ordered categorical:\n",
    "train['Checkin service'] = train['Checkin service'].astype('category')\n",
    "train['Checkin service'] = train['Checkin service'].cat.set_categories(new_categories = [1, 2, 3, 4, 5], ordered = True)\n",
    "train['Checkin service'].unique()"
   ]
  },
  {
   "cell_type": "code",
   "execution_count": 1546,
   "metadata": {},
   "outputs": [
    {
     "data": {
      "text/plain": [
       "[5, 4, 3, 1, 2, NaN]\n",
       "Categories (5, int64): [1 < 2 < 3 < 4 < 5]"
      ]
     },
     "execution_count": 1546,
     "metadata": {},
     "output_type": "execute_result"
    }
   ],
   "source": [
    "# Unique column values:\n",
    "train['Inflight service'].unique()\n",
    "# Converting to cordered ategorical:\n",
    "train['Inflight service'] = train['Inflight service'].astype('category')\n",
    "train['Inflight service'] = train['Inflight service'].cat.set_categories(new_categories = [1, 2, 3, 4, 5], ordered = True)\n",
    "train['Inflight service'].unique()"
   ]
  },
  {
   "cell_type": "code",
   "execution_count": 1547,
   "metadata": {},
   "outputs": [
    {
     "data": {
      "text/plain": [
       "[5, 1, 2, 3, 4, NaN]\n",
       "Categories (5, int64): [1 < 2 < 3 < 4 < 5]"
      ]
     },
     "execution_count": 1547,
     "metadata": {},
     "output_type": "execute_result"
    }
   ],
   "source": [
    "# Unique column values:\n",
    "train['Cleanliness'].unique()\n",
    "# Converting to ordered categorical:\n",
    "train['Cleanliness'] = train['Cleanliness'].astype('category')\n",
    "train['Cleanliness'] = train['Cleanliness'].cat.set_categories(new_categories = [1, 2, 3, 4, 5], ordered = True)\n",
    "train['Cleanliness'].unique()"
   ]
  },
  {
   "cell_type": "code",
   "execution_count": 1548,
   "metadata": {},
   "outputs": [
    {
     "name": "stdout",
     "output_type": "stream",
     "text": [
      "[ 25   1   0  11   9   4  28  43  49   7  17  52  54  27  18  19   3 109\n",
      "  23   8  14  10  51  39  13  30  64  20  45  44  31  81  35  67  22  40\n",
      "  91  21  15  29 105  12 162  24 141   6  34   2  97  16  99  37  66  53\n",
      "  36 209  60 149  26   5  59  62 113  38  83 176  46  73 199  56  93  70\n",
      "  80  96  57  95  74 172  63 175 143  48  47 101 118  76 220  33  55 232\n",
      " 170 173 124 112  94 243 128  92 270  90]\n",
      "Dtype: int64\n",
      "Minimum Departure Delay in Minutes: 0\n",
      "Maximum Departure Delay in Minutes: 1592\n"
     ]
    }
   ],
   "source": [
    "# Unique column values:\n",
    "print(train['Departure Delay in Minutes'].unique()[0:100])\n",
    "# Checking column dtype:\n",
    "print('Dtype:', train['Departure Delay in Minutes'].dtype)\n",
    "# Validating data:\n",
    "print('Minimum Departure Delay in Minutes:', train['Departure Delay in Minutes'].min())\n",
    "print('Maximum Departure Delay in Minutes:',train['Departure Delay in Minutes'].max())"
   ]
  },
  {
   "cell_type": "code",
   "execution_count": 1549,
   "metadata": {},
   "outputs": [
    {
     "name": "stdout",
     "output_type": "stream",
     "text": [
      "[ 18.   6.   0.   9.  23.   8.  35.  51.  10.   5.   4.  29.  44.  28.\n",
      "  12. 120.  24.   1.  20.  31.  15.  48.  26.  49.   2.  37.  50.   3.\n",
      "  19.  72.  11.  34.  62.  27.  52.  13.  82.  30.  16.   7. 122. 179.\n",
      " 125.  17.  nan  89. 101.  14.  61.  32.  33.  41. 191. 138.  53.  22.\n",
      "  57.  65.  76. 107.  92. 164.  21.  40.  55. 185.  63.  77.  86.  91.\n",
      " 100.  54.  36.  70. 139.  67. 163. 128. 180.  93. 121.  45. 105. 126.\n",
      "  56.  73. 212.  88. 241. 172. 175. 111.  99.  25.  42. 226.  46. 131.\n",
      " 260.  69.]\n",
      "Dtype: float64\n",
      "Minimum Arrival Delay in Minutes: 0.0\n",
      "Maximum Arrival Delay in Minutes: 1584.0\n"
     ]
    }
   ],
   "source": [
    "# Unique column values:\n",
    "print(train['Arrival Delay in Minutes'].unique()[0:100])\n",
    "# Checking column dtype:\n",
    "print('Dtype:', train['Arrival Delay in Minutes'].dtype)\n",
    "# Validating data:\n",
    "print('Minimum Arrival Delay in Minutes:', train['Arrival Delay in Minutes'].min())\n",
    "print('Maximum Arrival Delay in Minutes:', train['Arrival Delay in Minutes'].max())"
   ]
  },
  {
   "cell_type": "code",
   "execution_count": 1550,
   "metadata": {},
   "outputs": [
    {
     "name": "stdout",
     "output_type": "stream",
     "text": [
      "['neutral or dissatisfied' 'satisfied']\n"
     ]
    }
   ],
   "source": [
    "# Unique column values:\n",
    "print(train['satisfaction'].unique())\n",
    "\n",
    "# Formatting column name:\n",
    "train = train.rename(columns = {'satisfaction': 'Satisfaction'})\n",
    "train['Satisfaction'].unique()\n",
    "\n",
    "# Converting to ordered categorical:\n",
    "train['Satisfaction'] = train['Satisfaction'].astype('category')\n",
    "train['Satisfaction'] = train['Satisfaction'].cat.set_categories(new_categories = ['satisfied', 'neutral or dissatisfied'], ordered = True)"
   ]
  },
  {
   "cell_type": "code",
   "execution_count": 1551,
   "metadata": {},
   "outputs": [],
   "source": [
    "# Formating column name:\n",
    "train = train.rename(columns = {'Inflight wifi service': 'Inflight Wifi Service', 'Departure/Arrival time convenient': 'Departure/Arrival Time Convenient',\n",
    "                                'Ease of Online booking': 'Ease of Online Booking', 'Gate location': 'Gate Location', \n",
    "                                'Food and drink': 'Food and Drink', 'Online boarding': 'Online Boarding', 'Seat comfort': 'Seat Comfort',\n",
    "                                'Inflight entertainment': 'Inflight Entertainment', 'On-board service': 'On-board Service', 'Leg room service': 'Leg Room Service',\n",
    "                                'Baggage handling': 'Baggage Handling', 'Checkin service': 'Checkin Service', 'Inflight service': 'Inflight Service'})\n"
   ]
  },
  {
   "cell_type": "markdown",
   "metadata": {},
   "source": [
    "Notice how, when cleaning the data and setting correct ordered category values, a large number of NaNs were created. This will be further analysed below:"
   ]
  },
  {
   "cell_type": "code",
   "execution_count": 1552,
   "metadata": {},
   "outputs": [
    {
     "data": {
      "text/plain": [
       "id                                      0\n",
       "Gender                                  0\n",
       "Customer Type                           0\n",
       "Age                                     0\n",
       "Type of Travel                          0\n",
       "Class                                   0\n",
       "Flight Distance                         0\n",
       "Inflight Wifi Service                3103\n",
       "Departure/Arrival Time Convenient    5300\n",
       "Ease of Online Booking               4487\n",
       "Gate Location                           1\n",
       "Food and Drink                        107\n",
       "Online Boarding                      2428\n",
       "Seat Comfort                            1\n",
       "Inflight Entertainment                 14\n",
       "On-board Service                        3\n",
       "Leg Room Service                      472\n",
       "Baggage Handling                        0\n",
       "Checkin Service                         1\n",
       "Inflight Service                        3\n",
       "Cleanliness                            12\n",
       "Departure Delay in Minutes              0\n",
       "Arrival Delay in Minutes              310\n",
       "Satisfaction                            0\n",
       "dtype: int64"
      ]
     },
     "execution_count": 1552,
     "metadata": {},
     "output_type": "execute_result"
    }
   ],
   "source": [
    "# Checking for missing values:\n",
    "train.isna().sum()"
   ]
  },
  {
   "cell_type": "markdown",
   "metadata": {},
   "source": [
    "We will drop NaN for variables more than 95% of missing values:"
   ]
  },
  {
   "cell_type": "code",
   "execution_count": 1553,
   "metadata": {},
   "outputs": [
    {
     "name": "stdout",
     "output_type": "stream",
     "text": [
      "5195\n"
     ]
    }
   ],
   "source": [
    "# Establishing a threshold in accordance with the dataset size for the deletion of NaNs:\n",
    "threshold = len(train)*0.05\n",
    "print(round(threshold))"
   ]
  },
  {
   "cell_type": "code",
   "execution_count": 1554,
   "metadata": {},
   "outputs": [
    {
     "name": "stdout",
     "output_type": "stream",
     "text": [
      "Index(['id', 'Gender', 'Customer Type', 'Age', 'Type of Travel', 'Class',\n",
      "       'Flight Distance', 'Inflight Wifi Service', 'Ease of Online Booking',\n",
      "       'Gate Location', 'Food and Drink', 'Online Boarding', 'Seat Comfort',\n",
      "       'Inflight Entertainment', 'On-board Service', 'Leg Room Service',\n",
      "       'Baggage Handling', 'Checkin Service', 'Inflight Service',\n",
      "       'Cleanliness', 'Departure Delay in Minutes', 'Arrival Delay in Minutes',\n",
      "       'Satisfaction'],\n",
      "      dtype='object')\n"
     ]
    }
   ],
   "source": [
    "# Identifying the columns for which NaNs can be dropped:\n",
    "columns_to_drop = train.columns[train.isna().sum() <= threshold]\n",
    "print(columns_to_drop)"
   ]
  },
  {
   "cell_type": "markdown",
   "metadata": {},
   "source": [
    "There are many variables for which missing values can be dropped. There are many sophistacted methods for missing value imputation. However, here a very basic approach will be taken; missing values will be imputed with the features' mode.  "
   ]
  },
  {
   "cell_type": "code",
   "execution_count": 1555,
   "metadata": {},
   "outputs": [
    {
     "name": "stdout",
     "output_type": "stream",
     "text": [
      "Index(['Departure/Arrival Time Convenient'], dtype='object')\n"
     ]
    }
   ],
   "source": [
    "# Identifying the columns for which NaNs should be imputed:\n",
    "cols_to_impute = train.columns[train.isna().sum() > threshold]\n",
    "print(cols_to_impute)"
   ]
  },
  {
   "cell_type": "code",
   "execution_count": 1556,
   "metadata": {},
   "outputs": [],
   "source": [
    "# Iterate through each column to impute NaNs with the mode:\n",
    "for col in cols_to_impute:\n",
    "    mode_value = train[col].mode()\n",
    "    if not mode_value.empty:\n",
    "        train[col] = train[col].fillna(mode_value.iloc[0])"
   ]
  },
  {
   "cell_type": "markdown",
   "metadata": {},
   "source": [
    "## Function for Data Preprocessing"
   ]
  },
  {
   "cell_type": "markdown",
   "metadata": {},
   "source": [
    "Since the previous data preprocessing was quite significant, a function will be defined to streamline this process for the test data set and in the eventuality if more data becomes available. "
   ]
  },
  {
   "cell_type": "code",
   "execution_count": 1565,
   "metadata": {},
   "outputs": [],
   "source": [
    "def data_preprocessing(data):\n",
    "\n",
    "    # Checking the shape of the dataset:\n",
    "    print(f'Data shape:', data.shape)\n",
    "\n",
    "    # Checking for duplicate entries:\n",
    "    print(f'\\nData is duplicated:', data.duplicated().any())\n",
    "\n",
    "    # Checking whether the `id` column has only unique values:\n",
    "    print(f'\\nLength of unique ID values:', len(data['id'].unique()))\n",
    "\n",
    "    # Convert 'Gender' to categorical:\n",
    "    data['Gender'] = data['Gender'].astype('category')\n",
    "\n",
    "    # Format 'Customer Type' column:\n",
    "    data['Customer Type'] = data['Customer Type'].str.capitalize()\n",
    "    data['Customer Type'] = data['Customer Type'].astype('category')\n",
    "\n",
    "    # Validating the 'Age' column:\n",
    "    print('\\nMinimum Age:', data['Age'].min())\n",
    "    print('Maximum Age:', data['Age'].max())\n",
    "\n",
    "    # Format the 'Type of Travel' column:\n",
    "    data['Type of Travel'] = data['Type of Travel'].str.capitalize()\n",
    "    data['Type of Travel'] = data['Type of Travel'].astype('category')\n",
    "\n",
    "    # Format the 'Class' column:\n",
    "    data['Class'] = data['Class'].str.replace('Eco', '1')\n",
    "    data['Class'] = data['Class'].str.replace('1 Plus', '2')\n",
    "    data['Class'] = data['Class'].str.replace('Business', '3')\n",
    "    data['Class'] = data['Class'].astype('category')\n",
    "    data['Class'] = data['Class'].cat.set_categories(new_categories = ['1', '2', '3'], ordered = True)\n",
    "\n",
    "    # Validate the 'Flight Distance' column:\n",
    "    print('\\nMinimum Flight Distance:', data['Flight Distance'].min())\n",
    "    print('Maximum Flight Distance:', data['Flight Distance'].max())\n",
    "\n",
    "    # Format the 'Inflight wifi service' column:\n",
    "    data['Inflight wifi service'] = data['Inflight wifi service'].astype('category')\n",
    "    data['Inflight wifi service'] = data['Inflight wifi service'].cat.set_categories(new_categories = [1, 2, 3, 4, 5], ordered = True)\n",
    "\n",
    "    # Format the 'Departure/Arrival time convenient' column:\n",
    "    data['Departure/Arrival time convenient'] = data['Departure/Arrival time convenient'].astype('category')\n",
    "    data['Departure/Arrival time convenient'] = data['Departure/Arrival time convenient'].cat.set_categories(new_categories = [1, 2, 3, 4, 5],\n",
    "                                                                                                           ordered = True)\n",
    "    \n",
    "    # Format the 'Ease of Online booking' column:\n",
    "    data['Ease of Online booking'] = data['Ease of Online booking'].astype('category')\n",
    "    data['Ease of Online booking'] = data['Ease of Online booking'].cat.set_categories(new_categories = [1, 2, 3, 4, 5], \n",
    "                                                                                     ordered = True)\n",
    "    \n",
    "    # Format the 'Gate location' column:\n",
    "    data['Gate location'] = data['Gate location'].astype('category')\n",
    "    data['Gate location'] = data['Gate location'].cat.set_categories(new_categories = [1, 2, 3, 4, 5], ordered = True)\n",
    "\n",
    "    # Format the 'Food and drink' column:\n",
    "    data['Food and drink'] = data['Food and drink'].astype('category')\n",
    "    data['Food and drink'] = data['Food and drink'].cat.set_categories(new_categories = [1, 2, 3, 4, 5], ordered = True)\n",
    "\n",
    "    # Format the 'Online boarding' column:\n",
    "    data['Online boarding'] = data['Online boarding'].astype('category')\n",
    "    data['Online boarding'] = data['Online boarding'].cat.set_categories(new_categories = [1, 2, 3, 4, 5], ordered = True)\n",
    "\n",
    "    # Format the 'Seat comfort' column:\n",
    "    data['Seat comfort'] = data['Seat comfort'].astype('category')\n",
    "    data['Seat comfort'] = data['Seat comfort'].cat.set_categories(new_categories = [1, 2, 3, 4, 5], ordered = True)\n",
    "\n",
    "    # Format the 'Inflight entertainment' column:\n",
    "    data['Inflight entertainment'] = data['Inflight entertainment'].astype('category')\n",
    "    data['Inflight entertainment'] = data['Inflight entertainment'].cat.set_categories(new_categories = [1, 2, 3, 4, 5], ordered = True)\n",
    "\n",
    "    # Format the 'On-board service' column:\n",
    "    data['On-board service'] = data['On-board service'].astype('category')\n",
    "    data['On-board service'] = data['On-board service'].cat.set_categories(new_categories = [1, 2, 3, 4, 5], ordered = True)\n",
    "\n",
    "    # Format the 'Leg room service' column:\n",
    "    data['Leg room service'] = data['Leg room service'].astype('category')\n",
    "    data['Leg room service'] = data['Leg room service'].cat.set_categories(new_categories = [1, 2, 3, 4, 5], ordered = True)\n",
    "\n",
    "    # Format the 'Baggage handling' column:\n",
    "    data['Baggage handling'] = data['Baggage handling'].astype('category')\n",
    "    data['Baggage handling'] = data['Baggage handling'].cat.set_categories(new_categories = [1, 2, 3, 4, 5], ordered = True)\n",
    "\n",
    "    # Format the 'Checkin service' column:\n",
    "    data['Checkin service'] = data['Checkin service'].astype('category')\n",
    "    data['Checkin service'] = data['Checkin service'].cat.set_categories(new_categories = [1, 2, 3, 4, 5], ordered = True)\n",
    "\n",
    "    # Format the 'Inflight service' column:\n",
    "    data['Inflight service'] = data['Inflight service'].astype('category')\n",
    "    data['Inflight service'] = data['Inflight service'].cat.set_categories(new_categories = [1, 2, 3, 4, 5], ordered = True)\n",
    "\n",
    "    # Format the 'Cleanliness' column:\n",
    "    data['Cleanliness'] = data['Cleanliness'].astype('category')\n",
    "    data['Cleanliness'] = data['Cleanliness'].cat.set_categories(new_categories = [1, 2, 3, 4, 5], ordered = True)\n",
    "\n",
    "    # Validate the 'Departure Delay in Minutes' column:\n",
    "    print('\\nMinimum Departure Delay in Minutes:', data['Departure Delay in Minutes'].min())\n",
    "    print('Maximum Departure Delay in Minutes:',data['Departure Delay in Minutes'].max())\n",
    "\n",
    "    # Validate the 'Arrival Delay in Minutes' column:\n",
    "    print('\\nMinimum Arrival Delay in Minutes:', data['Arrival Delay in Minutes'].min())\n",
    "    print('Maximum Arrival Delay in Minutes:', data['Arrival Delay in Minutes'].max())\n",
    "\n",
    "    # Format the 'satisfaction' column:\n",
    "    data = data.rename(columns = {'satisfaction': 'Satisfaction'})\n",
    "    data['Satisfaction'] = data['Satisfaction'].astype('category')\n",
    "    data['Satisfaction'] = data['Satisfaction'].cat.set_categories(new_categories = ['satisfied', 'neutral or dissatisfied'], ordered = True)\n",
    "\n",
    "    # Format other column name:\n",
    "    data = data.rename(columns = {'Inflight wifi service': 'Inflight Wifi Service', 'Departure/Arrival time convenient': 'Departure/Arrival Time Convenient',\n",
    "                                'Ease of Online booking': 'Ease of Online Booking', 'Gate location': 'Gate Location', \n",
    "                                'Food and drink': 'Food and Drink', 'Online boarding': 'Online Boarding', 'Seat comfort': 'Seat Comfort',\n",
    "                                'Inflight entertainment': 'Inflight Entertainment', 'On-board service': 'On-board Service', 'Leg room service': 'Leg Room Service',\n",
    "                                'Baggage handling': 'Baggage Handling', 'Checkin service': 'Checkin Service', 'Inflight service': 'Inflight Service'})\n",
    "    \n",
    "    def resolve_nans(df):\n",
    "        threshold = len(df) * 0.05\n",
    "\n",
    "        # Identify columns with more NaNs than the threshold for dropping\n",
    "        columns_to_drop = df.columns[df.isna().sum() <= threshold]\n",
    "\n",
    "        # Identify columns with less NaNs than the threshold for imputation\n",
    "        cols_to_impute = df.columns[df.isna().sum() > threshold]\n",
    "\n",
    "        # Drop columns with too many NaNs (above the threshold)\n",
    "        df = df.drop(columns=columns_to_drop)\n",
    "\n",
    "        # Iterate through each column that needs imputation:\n",
    "        for col in cols_to_impute:\n",
    "            mode_value = df[col].mode()\n",
    "            if not mode_value.empty:  # Check if the mode exists\n",
    "                df[col] = df[col].fillna(mode_value.iloc[0])\n",
    "\n",
    "        return df\n",
    "    \n",
    "    return data\n",
    "\n",
    "\n"
   ]
  },
  {
   "cell_type": "markdown",
   "metadata": {},
   "source": [
    "## Cleaning and Transforming the Test Data Set"
   ]
  },
  {
   "cell_type": "markdown",
   "metadata": {},
   "source": [
    "The same process is performed on the test set."
   ]
  },
  {
   "cell_type": "code",
   "execution_count": 1566,
   "metadata": {},
   "outputs": [],
   "source": [
    "# Importing the data set:\n",
    "test = pd.read_csv('../Data/Raw/test.csv', index_col = 0)"
   ]
  },
  {
   "cell_type": "code",
   "execution_count": 1567,
   "metadata": {},
   "outputs": [
    {
     "name": "stdout",
     "output_type": "stream",
     "text": [
      "Data shape: (25976, 24)\n",
      "\n",
      "Data is duplicated: False\n",
      "\n",
      "Length of unique ID values: 25976\n",
      "\n",
      "Minimum Age: 7\n",
      "Maximum Age: 85\n",
      "\n",
      "Minimum Flight Distance: 31\n",
      "Maximum Flight Distance: 4983\n",
      "\n",
      "Minimum Departure Delay in Minutes: 0\n",
      "Maximum Departure Delay in Minutes: 1128\n",
      "\n",
      "Minimum Arrival Delay in Minutes: 0.0\n",
      "Maximum Arrival Delay in Minutes: 1115.0\n"
     ]
    }
   ],
   "source": [
    "# Using the created function to process the test set:\n",
    "test = data_preprocessing(test)"
   ]
  },
  {
   "cell_type": "code",
   "execution_count": 1568,
   "metadata": {},
   "outputs": [],
   "source": [
    "# Saving the first preprocessed dataset to pickle to preserve data type information:\n",
    "# train.to_pickle('../Data/Preprocessed_1/train_preprocessed_1.pkl')\n",
    "# test.to_pickle('../Data/Preprocessed_1/test_preprocessed_1.pkl')"
   ]
  },
  {
   "cell_type": "code",
   "execution_count": 1569,
   "metadata": {},
   "outputs": [],
   "source": [
    "# Importing the preprocessed data:\n",
    "train = pd.read_pickle('../Data/Preprocessed_1/train_preprocessed_1.pkl')\n",
    "test = pd.read_pickle('../Data/Preprocessed_1/test_preprocessed_1.pkl')\n"
   ]
  },
  {
   "cell_type": "markdown",
   "metadata": {},
   "source": [
    "Both datasets are now ready. The next step is to perform an Exploratory Data Analysis on the train set. Please go to the `exploratory_data_analysis.ipynb` notebook. "
   ]
  }
 ],
 "metadata": {
  "kernelspec": {
   "display_name": "Python 3",
   "language": "python",
   "name": "python3"
  },
  "language_info": {
   "codemirror_mode": {
    "name": "ipython",
    "version": 3
   },
   "file_extension": ".py",
   "mimetype": "text/x-python",
   "name": "python",
   "nbconvert_exporter": "python",
   "pygments_lexer": "ipython3",
   "version": "3.11.3"
  }
 },
 "nbformat": 4,
 "nbformat_minor": 2
}
