{
 "cells": [
  {
   "cell_type": "markdown",
   "id": "b7c38191-bbf1-4b94-ac2c-c7d1553a3a6c",
   "metadata": {},
   "source": [
    "# HTML Converter"
   ]
  },
  {
   "cell_type": "markdown",
   "id": "526bb2d9-c7f8-4438-abeb-7ea6dc192dc0",
   "metadata": {},
   "source": [
    "## With warnings"
   ]
  },
  {
   "cell_type": "code",
   "execution_count": 1,
   "id": "39e22aea-b689-49f8-af06-3c2bc5a8cddf",
   "metadata": {},
   "outputs": [
    {
     "name": "stdout",
     "output_type": "stream",
     "text": [
      "HTML file saved to working_with_dates_and_times_in_python.html\n"
     ]
    }
   ],
   "source": [
    "import os\n",
    "from nbconvert import HTMLExporter\n",
    "import nbformat\n",
    "\n",
    "# Load the notebook\n",
    "notebook_filename = \"final_model_analysis_summary.ipynb\"\n",
    "if not os.path.exists(notebook_filename):\n",
    "    raise FileNotFoundError(f\"{notebook_filename} not found. Please check the file name and path.\")\n",
    "\n",
    "with open(notebook_filename) as f:\n",
    "    nb = nbformat.read(f, as_version=4)\n",
    "\n",
    "# Export the notebook to HTML\n",
    "html_exporter = HTMLExporter()\n",
    "(body, resources) = html_exporter.from_notebook_node(nb)\n",
    "\n",
    "# Write the HTML output to a file\n",
    "html_filename = \"working_with_dates_and_times_in_python.html\"\n",
    "with open(html_filename, \"w\") as f:\n",
    "    f.write(body)\n",
    "\n",
    "print(f\"HTML file saved to {html_filename}\")"
   ]
  },
  {
   "cell_type": "markdown",
   "id": "dc9a2588-bbdd-4751-9842-4213acc6b42b",
   "metadata": {},
   "source": [
    "## Without warnings"
   ]
  },
  {
   "cell_type": "code",
   "execution_count": 1,
   "id": "15d125ed-fc5a-4740-9e46-f38f7673b4db",
   "metadata": {},
   "outputs": [
    {
     "name": "stdout",
     "output_type": "stream",
     "text": [
      "HTML file saved to introduction_to_iterators.html\n"
     ]
    }
   ],
   "source": [
    "import os\n",
    "from nbconvert import HTMLExporter\n",
    "import nbformat\n",
    "from nbformat.v4 import new_code_cell\n",
    "\n",
    "# Function to add a warning suppression cell\n",
    "def add_warning_suppression(nb):\n",
    "    suppression_code = \"\"\"\n",
    "import warnings\n",
    "warnings.filterwarnings(\"ignore\")\n",
    "\"\"\"\n",
    "    # Add a new code cell at the beginning of the notebook\n",
    "    nb.cells.insert(0, new_code_cell(suppression_code))\n",
    "    return nb\n",
    "\n",
    "# Load the notebook\n",
    "notebook_filename = \"introduction_to_iterators.ipynb\"\n",
    "if not os.path.exists(notebook_filename):\n",
    "    raise FileNotFoundError(f\"{notebook_filename} not found. Please check the file name and path.\")\n",
    "\n",
    "with open(notebook_filename) as f:\n",
    "    nb = nbformat.read(f, as_version=4)\n",
    "\n",
    "# Add code to suppress warnings\n",
    "nb = add_warning_suppression(nb)\n",
    "\n",
    "# Export the notebook to HTML\n",
    "html_exporter = HTMLExporter()\n",
    "(body, resources) = html_exporter.from_notebook_node(nb)\n",
    "\n",
    "# Write the HTML output to a file\n",
    "html_filename = \"introduction_to_iterators.html\"\n",
    "with open(html_filename, \"w\") as f:\n",
    "    f.write(body)\n",
    "\n",
    "print(f\"HTML file saved to {html_filename}\")"
   ]
  },
  {
   "cell_type": "markdown",
   "id": "9e4ac76e-5fd9-4a54-8533-24b2570eb631",
   "metadata": {},
   "source": []
  },
  {
   "cell_type": "code",
   "execution_count": null,
   "id": "2e3e0970-46d0-4701-9a05-f9920cd8ef30",
   "metadata": {},
   "outputs": [],
   "source": []
  }
 ],
 "metadata": {
  "kernelspec": {
   "display_name": "Python 3",
   "language": "python",
   "name": "python3"
  },
  "language_info": {
   "codemirror_mode": {
    "name": "ipython",
    "version": 3
   },
   "file_extension": ".py",
   "mimetype": "text/x-python",
   "name": "python",
   "nbconvert_exporter": "python",
   "pygments_lexer": "ipython3",
   "version": "3.9.6"
  }
 },
 "nbformat": 4,
 "nbformat_minor": 5
}
